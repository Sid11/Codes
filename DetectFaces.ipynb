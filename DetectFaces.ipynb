{
 "cells": [
  {
   "cell_type": "code",
   "execution_count": 1,
   "metadata": {},
   "outputs": [],
   "source": [
    "import cv2  # import opencv library\n",
    "import os   # for Directories\n",
    "import matplotlib.pyplot as plt # for visualizing images\n",
    "import numpy as np # for passing labels in train function \n",
    "# visualizing the plots in jupyter\n",
    "%matplotlib inline "
   ]
  },
  {
   "cell_type": "code",
   "execution_count": 2,
   "metadata": {},
   "outputs": [],
   "source": [
    "# Function for preparing the data\n",
    "def prepare_data(data_path):\n",
    "    #initializing the faces and label to null\n",
    "    faces = []\n",
    "    labels = []\n",
    "    # getting the directory using os\n",
    "    dir_path = os.listdir(data_path)\n",
    "    # looping in the training directory, we have two sub folders (s1,s2)\n",
    "    for dir_name in dir_path:\n",
    "        #giving label an integer value\n",
    "        label = int(dir_name)\n",
    "        #the sub directory\n",
    "        sub_dir_path = data_path + \"/\" + dir_name\n",
    "        sub_dir = os.listdir(sub_dir_path)\n",
    "        \n",
    "        for image_dir_path in sub_dir:\n",
    "            #giving images their path\n",
    "            image_path = sub_dir_path + \"/\" + image_dir_path\n",
    "            # reading an image\n",
    "            \n",
    "            img = cv2.imread(image_path)\n",
    "            \n",
    "            # getting the face of each image\n",
    "            face , rect = detect_faces_predict(img)\n",
    "            \n",
    "\n",
    "            #check if face is present\n",
    "            if face is not None:\n",
    "                #append the faces and label\n",
    "                faces.append(face)\n",
    "                labels.append(label)\n",
    "    return faces , labels"
   ]
  },
  {
   "cell_type": "code",
   "execution_count": 3,
   "metadata": {},
   "outputs": [],
   "source": [
    "def detect_faces(f_cascade ,img ,scaleFactor = 1.2):\n",
    "    # make a copy so that the original image is not changed\n",
    "    img_copy = img.copy()\n",
    "    # convert to gray image as opencv expects gray images\n",
    "    gray_image = cv2.cvtColor(img_copy , cv2.COLOR_BGR2GRAY)\n",
    "    # ScaleFactor parametr for : some images may be closer than others\n",
    "    faces = f_cascade.detectMultiScale(gray_image , scaleFactor = scaleFactor ,minNeighbors=5)\n",
    "    # loop over the list of faces\n",
    "    for (x,y,w,h) in faces:\n",
    "        cv2.rectangle(img_copy,(x,y),(x+w,y+h),(0,255,0),5)\n",
    "    return img_copy"
   ]
  },
  {
   "cell_type": "code",
   "execution_count": null,
   "metadata": {},
   "outputs": [],
   "source": []
  }
 ],
 "metadata": {
  "kernelspec": {
   "display_name": "Python 3",
   "language": "python",
   "name": "python3"
  },
  "language_info": {
   "codemirror_mode": {
    "name": "ipython",
    "version": 3
   },
   "file_extension": ".py",
   "mimetype": "text/x-python",
   "name": "python",
   "nbconvert_exporter": "python",
   "pygments_lexer": "ipython3",
   "version": "3.7.4"
  }
 },
 "nbformat": 4,
 "nbformat_minor": 4
}
